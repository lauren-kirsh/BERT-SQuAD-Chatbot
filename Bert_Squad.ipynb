{
 "cells": [
  {
   "cell_type": "markdown",
   "id": "a2ef1c81-effa-4135-912f-53339b951363",
   "metadata": {},
   "source": [
    "### Import"
   ]
  },
  {
   "cell_type": "code",
   "execution_count": 2,
   "id": "b50930cd-7a6b-4350-8780-fa1e64855a09",
   "metadata": {},
   "outputs": [],
   "source": [
    "import torch\n",
    "from transformers import pipeline, AutoTokenizer, AutoModelForQuestionAnswering, BertTokenizer, BertForQuestionAnswering"
   ]
  },
  {
   "cell_type": "code",
   "execution_count": 3,
   "id": "6591524d-4f1e-4fed-99eb-68c5dba55636",
   "metadata": {},
   "outputs": [
    {
     "name": "stderr",
     "output_type": "stream",
     "text": [
      "Some weights of the model checkpoint at ./bert_large_uncased_whole_word_masking_finetuned_squad were not used when initializing BertForQuestionAnswering: ['bert.pooler.dense.bias', 'bert.pooler.dense.weight']\n",
      "- This IS expected if you are initializing BertForQuestionAnswering from the checkpoint of a model trained on another task or with another architecture (e.g. initializing a BertForSequenceClassification model from a BertForPreTraining model).\n",
      "- This IS NOT expected if you are initializing BertForQuestionAnswering from the checkpoint of a model that you expect to be exactly identical (initializing a BertForSequenceClassification model from a BertForSequenceClassification model).\n"
     ]
    }
   ],
   "source": [
    "# load model\n",
    "model = BertForQuestionAnswering.from_pretrained('./bert_large_uncased_whole_word_masking_finetuned_squad') \n",
    "\n",
    "# load tokenizers\n",
    "tokenizer = BertTokenizer.from_pretrained('./bert_large_uncased_whole_word_masking_finetuned_squad')"
   ]
  },
  {
   "cell_type": "markdown",
   "id": "4665d05b-7e24-41c7-afd1-cf3f2f46a86a",
   "metadata": {},
   "source": [
    "### Define Method"
   ]
  },
  {
   "cell_type": "code",
   "execution_count": 6,
   "id": "4d50c81a-3326-4add-b4e5-3bd7c1cc2199",
   "metadata": {},
   "outputs": [],
   "source": [
    "def answer_question(question, paragraph):\n",
    "    inputs = tokenizer(question, paragraph, return_tensors='pt')\n",
    "\n",
    "    outputs = model(**inputs)\n",
    "    start_scores = outputs.start_logits\n",
    "    end_scores = outputs.end_logits\n",
    "\n",
    "    start_index = torch.argmax(start_scores)\n",
    "    end_index = torch.argmax(end_scores) + 1\n",
    "\n",
    "    answer_tokens = inputs['input_ids'][0][start_index:end_index]\n",
    "    answer = tokenizer.decode(answer_tokens)\n",
    "\n",
    "    return answer"
   ]
  },
  {
   "cell_type": "markdown",
   "id": "c70949c3-dc6d-44e6-86f8-fe3b823d7eab",
   "metadata": {},
   "source": [
    "### Run Model"
   ]
  },
  {
   "cell_type": "code",
   "execution_count": 5,
   "id": "179a579f-03fd-4593-9bee-9f5cf30700e4",
   "metadata": {},
   "outputs": [
    {
     "name": "stdout",
     "output_type": "stream",
     "text": [
      "Question: How many parameters does BERT-large have?\n",
      "Answer: 340m\n",
      "\n"
     ]
    }
   ],
   "source": [
    "questions = [\n",
    "    \"How many parameters does BERT-large have?\"\n",
    "]\n",
    "paragraph = \"BERT-large is really big... it has 24-layers and an embedding size of 1,024, for a total of 340M parameters! Altogether it is 1.34GB, so expect it to take a couple minutes to download to your Colab instance.\"\n",
    "\n",
    "for question in questions:\n",
    "    answer = answer_question(question, paragraph)\n",
    "    print(\"Question:\", question)\n",
    "    print(\"Answer:\", answer)\n",
    "    print()"
   ]
  }
 ],
 "metadata": {
  "kernelspec": {
   "display_name": "Python 3 (ipykernel)",
   "language": "python",
   "name": "python3"
  },
  "language_info": {
   "codemirror_mode": {
    "name": "ipython",
    "version": 3
   },
   "file_extension": ".py",
   "mimetype": "text/x-python",
   "name": "python",
   "nbconvert_exporter": "python",
   "pygments_lexer": "ipython3",
   "version": "3.11.7"
  }
 },
 "nbformat": 4,
 "nbformat_minor": 5
}
